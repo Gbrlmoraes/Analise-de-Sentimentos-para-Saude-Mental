{
 "cells": [
  {
   "cell_type": "markdown",
   "metadata": {},
   "source": [
    "# Pacotes"
   ]
  },
  {
   "cell_type": "code",
   "execution_count": 1,
   "metadata": {},
   "outputs": [],
   "source": [
    "# Processamentos de dados\n",
    "import pandas as pd\n",
    "import nltk\n",
    "import re\n",
    "\n",
    "# Visualização\n",
    "import seaborn as sns\n",
    "import matplotlib.pyplot as plt\n",
    "\n",
    "# Auxiliares\n",
    "import os\n",
    "\n",
    "# Definindo parâmetros\n",
    "os.chdir(os.getcwd())\n",
    "os.chdir('..')\n",
    "\n",
    "sns.set_palette(\"dark\")\n",
    "sns.set_style(\"whitegrid\")"
   ]
  },
  {
   "cell_type": "code",
   "execution_count": 2,
   "metadata": {},
   "outputs": [
    {
     "name": "stderr",
     "output_type": "stream",
     "text": [
      "[nltk_data] Downloading package punkt to /home/gbrlmoraes/nltk_data...\n",
      "[nltk_data]   Package punkt is already up-to-date!\n",
      "[nltk_data] Downloading package stopwords to\n",
      "[nltk_data]     /home/gbrlmoraes/nltk_data...\n",
      "[nltk_data]   Package stopwords is already up-to-date!\n"
     ]
    },
    {
     "data": {
      "text/plain": [
       "True"
      ]
     },
     "execution_count": 2,
     "metadata": {},
     "output_type": "execute_result"
    }
   ],
   "source": [
    "# Downloads complementares do nltk\n",
    "nltk.download('punkt')\n",
    "nltk.download('stopwords')"
   ]
  },
  {
   "cell_type": "markdown",
   "metadata": {},
   "source": [
    "# Import dos dados"
   ]
  },
  {
   "cell_type": "code",
   "execution_count": 3,
   "metadata": {},
   "outputs": [
    {
     "data": {
      "text/html": [
       "<div>\n",
       "<style scoped>\n",
       "    .dataframe tbody tr th:only-of-type {\n",
       "        vertical-align: middle;\n",
       "    }\n",
       "\n",
       "    .dataframe tbody tr th {\n",
       "        vertical-align: top;\n",
       "    }\n",
       "\n",
       "    .dataframe thead th {\n",
       "        text-align: right;\n",
       "    }\n",
       "</style>\n",
       "<table border=\"1\" class=\"dataframe\">\n",
       "  <thead>\n",
       "    <tr style=\"text-align: right;\">\n",
       "      <th></th>\n",
       "      <th>statement</th>\n",
       "      <th>status</th>\n",
       "    </tr>\n",
       "  </thead>\n",
       "  <tbody>\n",
       "    <tr>\n",
       "      <th>0</th>\n",
       "      <td>Frankly people that ask me to do shit are the ...</td>\n",
       "      <td>Suicidal</td>\n",
       "    </tr>\n",
       "    <tr>\n",
       "      <th>1</th>\n",
       "      <td>life is just working hard at school so you can...</td>\n",
       "      <td>Depression</td>\n",
       "    </tr>\n",
       "    <tr>\n",
       "      <th>2</th>\n",
       "      <td>22 M. I am stuck in a rut. I am angry all the ...</td>\n",
       "      <td>Depression</td>\n",
       "    </tr>\n",
       "    <tr>\n",
       "      <th>3</th>\n",
       "      <td>gaindaswamy ye kon si ameero wali bimari hai m...</td>\n",
       "      <td>Depression</td>\n",
       "    </tr>\n",
       "    <tr>\n",
       "      <th>4</th>\n",
       "      <td>i don t understand i got the dream girl and i ...</td>\n",
       "      <td>Depression</td>\n",
       "    </tr>\n",
       "  </tbody>\n",
       "</table>\n",
       "</div>"
      ],
      "text/plain": [
       "                                           statement      status\n",
       "0  Frankly people that ask me to do shit are the ...    Suicidal\n",
       "1  life is just working hard at school so you can...  Depression\n",
       "2  22 M. I am stuck in a rut. I am angry all the ...  Depression\n",
       "3  gaindaswamy ye kon si ameero wali bimari hai m...  Depression\n",
       "4  i don t understand i got the dream girl and i ...  Depression"
      ]
     },
     "execution_count": 3,
     "metadata": {},
     "output_type": "execute_result"
    }
   ],
   "source": [
    "df = pd.read_parquet(r'dados/treino.parquet')\n",
    "df.head()"
   ]
  },
  {
   "cell_type": "markdown",
   "metadata": {},
   "source": [
    "# Análise Exploratória"
   ]
  },
  {
   "cell_type": "markdown",
   "metadata": {},
   "source": [
    "## Consistência dos dados"
   ]
  },
  {
   "cell_type": "markdown",
   "metadata": {},
   "source": [
    "### Dados faltantes"
   ]
  },
  {
   "cell_type": "code",
   "execution_count": 4,
   "metadata": {},
   "outputs": [
    {
     "name": "stdout",
     "output_type": "stream",
     "text": [
      "<class 'pandas.core.frame.DataFrame'>\n",
      "RangeIndex: 42434 entries, 0 to 42433\n",
      "Data columns (total 2 columns):\n",
      " #   Column     Non-Null Count  Dtype \n",
      "---  ------     --------------  ----- \n",
      " 0   statement  42131 non-null  object\n",
      " 1   status     42434 non-null  object\n",
      "dtypes: object(2)\n",
      "memory usage: 663.2+ KB\n"
     ]
    }
   ],
   "source": [
    "df.info()"
   ]
  },
  {
   "cell_type": "code",
   "execution_count": 5,
   "metadata": {},
   "outputs": [
    {
     "data": {
      "text/plain": [
       "statement    0.71405\n",
       "status       0.00000\n",
       "dtype: float64"
      ]
     },
     "execution_count": 5,
     "metadata": {},
     "output_type": "execute_result"
    }
   ],
   "source": [
    "df.isna().mean() * 100"
   ]
  },
  {
   "cell_type": "code",
   "execution_count": 6,
   "metadata": {},
   "outputs": [],
   "source": [
    "# Podemos ver que apenas 0.71% das linhas estão nulas, então podemos remove-las sem problema\n",
    "df.dropna(inplace = True)"
   ]
  },
  {
   "cell_type": "markdown",
   "metadata": {},
   "source": [
    "### Dados duplicados\n",
    "- Várias linhas estão duplicadas, mas apenas uma contêm multiplos valores de status para a mesma frase, então vamos remover todas as duplicatas e filtrar a frase problemática"
   ]
  },
  {
   "cell_type": "code",
   "execution_count": 9,
   "metadata": {},
   "outputs": [
    {
     "data": {
      "text/plain": [
       "1052"
      ]
     },
     "execution_count": 9,
     "metadata": {},
     "output_type": "execute_result"
    }
   ],
   "source": [
    "df['statement'].duplicated().sum()"
   ]
  },
  {
   "cell_type": "code",
   "execution_count": 28,
   "metadata": {},
   "outputs": [
    {
     "data": {
      "text/html": [
       "<div>\n",
       "<style scoped>\n",
       "    .dataframe tbody tr th:only-of-type {\n",
       "        vertical-align: middle;\n",
       "    }\n",
       "\n",
       "    .dataframe tbody tr th {\n",
       "        vertical-align: top;\n",
       "    }\n",
       "\n",
       "    .dataframe thead th {\n",
       "        text-align: right;\n",
       "    }\n",
       "</style>\n",
       "<table border=\"1\" class=\"dataframe\">\n",
       "  <thead>\n",
       "    <tr style=\"text-align: right;\">\n",
       "      <th></th>\n",
       "      <th>statement</th>\n",
       "      <th>status</th>\n",
       "    </tr>\n",
       "  </thead>\n",
       "  <tbody>\n",
       "    <tr>\n",
       "      <th>0</th>\n",
       "      <td>\\tIt was the summer, I had just started a new ...</td>\n",
       "      <td>{Normal}</td>\n",
       "    </tr>\n",
       "    <tr>\n",
       "      <th>1</th>\n",
       "      <td>...</td>\n",
       "      <td>{Stress}</td>\n",
       "    </tr>\n",
       "    <tr>\n",
       "      <th>2</th>\n",
       "      <td>He grew from a short, stubby, orange hair...</td>\n",
       "      <td>{Normal}</td>\n",
       "    </tr>\n",
       "    <tr>\n",
       "      <th>3</th>\n",
       "      <td>When we had our first fight I did EVERYTHIN...</td>\n",
       "      <td>{Normal}</td>\n",
       "    </tr>\n",
       "    <tr>\n",
       "      <th>4</th>\n",
       "      <td>**tl;dr**: I've [18 F] been into my friend [...</td>\n",
       "      <td>{Stress}</td>\n",
       "    </tr>\n",
       "    <tr>\n",
       "      <th>...</th>\n",
       "      <td>...</td>\n",
       "      <td>...</td>\n",
       "    </tr>\n",
       "    <tr>\n",
       "      <th>41073</th>\n",
       "      <td>€ SHARING NETFLIX PREMIUM âœ¨ã€'..âž¥ NETFLIX ...</td>\n",
       "      <td>{Normal}</td>\n",
       "    </tr>\n",
       "    <tr>\n",
       "      <th>41074</th>\n",
       "      <td>™†ðŸ rwoq</td>\n",
       "      <td>{Normal}</td>\n",
       "    </tr>\n",
       "    <tr>\n",
       "      <th>41075</th>\n",
       "      <td>● active staff members ● active support staff ...</td>\n",
       "      <td>{Normal}</td>\n",
       "    </tr>\n",
       "    <tr>\n",
       "      <th>41076</th>\n",
       "      <td>❤️ This group makes me realize that we all suf...</td>\n",
       "      <td>{Depression}</td>\n",
       "    </tr>\n",
       "    <tr>\n",
       "      <th>41077</th>\n",
       "      <td>🔴 24/7 LIVE Beautiful Ocean Waves For Deep Sle...</td>\n",
       "      <td>{Stress}</td>\n",
       "    </tr>\n",
       "  </tbody>\n",
       "</table>\n",
       "<p>41078 rows × 2 columns</p>\n",
       "</div>"
      ],
      "text/plain": [
       "                                               statement        status\n",
       "0      \\tIt was the summer, I had just started a new ...      {Normal}\n",
       "1                                                    ...      {Stress}\n",
       "2           He grew from a short, stubby, orange hair...      {Normal}\n",
       "3         When we had our first fight I did EVERYTHIN...      {Normal}\n",
       "4        **tl;dr**: I've [18 F] been into my friend [...      {Stress}\n",
       "...                                                  ...           ...\n",
       "41073  € SHARING NETFLIX PREMIUM âœ¨ã€'..âž¥ NETFLIX ...      {Normal}\n",
       "41074                                          ™†ðŸ rwoq      {Normal}\n",
       "41075  ● active staff members ● active support staff ...      {Normal}\n",
       "41076  ❤️ This group makes me realize that we all suf...  {Depression}\n",
       "41077  🔴 24/7 LIVE Beautiful Ocean Waves For Deep Sle...      {Stress}\n",
       "\n",
       "[41078 rows x 2 columns]"
      ]
     },
     "execution_count": 28,
     "metadata": {},
     "output_type": "execute_result"
    }
   ],
   "source": [
    "dfdf = df.groupby(['statement'])['status'].apply(set).reset_index()\n",
    "dfdf"
   ]
  },
  {
   "cell_type": "code",
   "execution_count": 29,
   "metadata": {},
   "outputs": [
    {
     "data": {
      "text/html": [
       "<div>\n",
       "<style scoped>\n",
       "    .dataframe tbody tr th:only-of-type {\n",
       "        vertical-align: middle;\n",
       "    }\n",
       "\n",
       "    .dataframe tbody tr th {\n",
       "        vertical-align: top;\n",
       "    }\n",
       "\n",
       "    .dataframe thead th {\n",
       "        text-align: right;\n",
       "    }\n",
       "</style>\n",
       "<table border=\"1\" class=\"dataframe\">\n",
       "  <thead>\n",
       "    <tr style=\"text-align: right;\">\n",
       "      <th></th>\n",
       "      <th>statement</th>\n",
       "      <th>status</th>\n",
       "    </tr>\n",
       "  </thead>\n",
       "  <tbody>\n",
       "  </tbody>\n",
       "</table>\n",
       "</div>"
      ],
      "text/plain": [
       "Empty DataFrame\n",
       "Columns: [statement, status]\n",
       "Index: []"
      ]
     },
     "execution_count": 29,
     "metadata": {},
     "output_type": "execute_result"
    }
   ],
   "source": [
    "dfdf[dfdf['status'].apply(len) > 2]"
   ]
  },
  {
   "cell_type": "code",
   "execution_count": 27,
   "metadata": {},
   "outputs": [
    {
     "data": {
      "text/html": [
       "<div>\n",
       "<style scoped>\n",
       "    .dataframe tbody tr th:only-of-type {\n",
       "        vertical-align: middle;\n",
       "    }\n",
       "\n",
       "    .dataframe tbody tr th {\n",
       "        vertical-align: top;\n",
       "    }\n",
       "\n",
       "    .dataframe thead th {\n",
       "        text-align: right;\n",
       "    }\n",
       "</style>\n",
       "<table border=\"1\" class=\"dataframe\">\n",
       "  <thead>\n",
       "    <tr style=\"text-align: right;\">\n",
       "      <th></th>\n",
       "      <th>statement</th>\n",
       "      <th>status</th>\n",
       "    </tr>\n",
       "  </thead>\n",
       "  <tbody>\n",
       "    <tr>\n",
       "      <th>0</th>\n",
       "      <td>Frankly people that ask me to do shit are the ...</td>\n",
       "      <td>Suicidal</td>\n",
       "    </tr>\n",
       "    <tr>\n",
       "      <th>1</th>\n",
       "      <td>life is just working hard at school so you can...</td>\n",
       "      <td>Depression</td>\n",
       "    </tr>\n",
       "    <tr>\n",
       "      <th>2</th>\n",
       "      <td>22 M. I am stuck in a rut. I am angry all the ...</td>\n",
       "      <td>Depression</td>\n",
       "    </tr>\n",
       "    <tr>\n",
       "      <th>3</th>\n",
       "      <td>gaindaswamy ye kon si ameero wali bimari hai m...</td>\n",
       "      <td>Depression</td>\n",
       "    </tr>\n",
       "    <tr>\n",
       "      <th>4</th>\n",
       "      <td>i don t understand i got the dream girl and i ...</td>\n",
       "      <td>Depression</td>\n",
       "    </tr>\n",
       "    <tr>\n",
       "      <th>...</th>\n",
       "      <td>...</td>\n",
       "      <td>...</td>\n",
       "    </tr>\n",
       "    <tr>\n",
       "      <th>42429</th>\n",
       "      <td>The birds chirp so I will die.is not it funny ...</td>\n",
       "      <td>Suicidal</td>\n",
       "    </tr>\n",
       "    <tr>\n",
       "      <th>42430</th>\n",
       "      <td>#Success consists of going from failure to fai...</td>\n",
       "      <td>Normal</td>\n",
       "    </tr>\n",
       "    <tr>\n",
       "      <th>42431</th>\n",
       "      <td>i ve never been one to feel anxious or thought...</td>\n",
       "      <td>Depression</td>\n",
       "    </tr>\n",
       "    <tr>\n",
       "      <th>42432</th>\n",
       "      <td>And that will return my depression. I feel tha...</td>\n",
       "      <td>Depression</td>\n",
       "    </tr>\n",
       "    <tr>\n",
       "      <th>42433</th>\n",
       "      <td>it s not that had to understand</td>\n",
       "      <td>Depression</td>\n",
       "    </tr>\n",
       "  </tbody>\n",
       "</table>\n",
       "<p>42119 rows × 2 columns</p>\n",
       "</div>"
      ],
      "text/plain": [
       "                                               statement      status\n",
       "0      Frankly people that ask me to do shit are the ...    Suicidal\n",
       "1      life is just working hard at school so you can...  Depression\n",
       "2      22 M. I am stuck in a rut. I am angry all the ...  Depression\n",
       "3      gaindaswamy ye kon si ameero wali bimari hai m...  Depression\n",
       "4      i don t understand i got the dream girl and i ...  Depression\n",
       "...                                                  ...         ...\n",
       "42429  The birds chirp so I will die.is not it funny ...    Suicidal\n",
       "42430  #Success consists of going from failure to fai...      Normal\n",
       "42431  i ve never been one to feel anxious or thought...  Depression\n",
       "42432  And that will return my depression. I feel tha...  Depression\n",
       "42433                    it s not that had to understand  Depression\n",
       "\n",
       "[42119 rows x 2 columns]"
      ]
     },
     "execution_count": 27,
     "metadata": {},
     "output_type": "execute_result"
    }
   ],
   "source": [
    "df = df[df['statement'] != '#NAME?']\n",
    "df.drop_duplicates(subset = 'statement', inplace = True)\n",
    "\n",
    "print(f'Dimensões finais do dataset de treino: {df.shape}')"
   ]
  },
  {
   "cell_type": "markdown",
   "metadata": {},
   "source": [
    "## Visão geral das classes\n",
    "\n",
    "- As categorias não estão igualmente distribuidas"
   ]
  },
  {
   "cell_type": "code",
   "execution_count": 7,
   "metadata": {},
   "outputs": [
    {
     "data": {
      "text/plain": [
       "<Figure size 600x200 with 0 Axes>"
      ]
     },
     "metadata": {},
     "output_type": "display_data"
    },
    {
     "data": {
      "image/png": "[encoded data removed]",
      "text/plain": [
       "<Figure size 511.111x500 with 1 Axes>"
      ]
     },
     "metadata": {},
     "output_type": "display_data"
    }
   ],
   "source": [
    "gdata = df['status'].value_counts()\n",
    "\n",
    "plt.figure(figsize = (6, 2))\n",
    "sns.catplot(\n",
    "    x = gdata.values,\n",
    "    y = gdata.index,\n",
    "    kind = 'bar'\n",
    ")\n",
    "plt.ylabel('Categoria', fontsize = 12)\n",
    "plt.title('Distribuição das classes', fontsize = 14)\n",
    "plt.show()"
   ]
  },
  {
   "cell_type": "markdown",
   "metadata": {},
   "source": [
    "## Palavras mais comuns em cada classe"
   ]
  },
  {
   "cell_type": "code",
   "execution_count": 8,
   "metadata": {},
   "outputs": [],
   "source": [
    "def pre_processamento(texto):\n",
    "  \"\"\"\n",
    "  Função para pré-processar o texto antes da contagem de palavras.\n",
    "\n",
    "  Argumentos:\n",
    "    texto (str): O texto a ser pré-processado.\n",
    "\n",
    "  Retorno:\n",
    "    lista: Uma lista contendo as palavras limpas e normalizadas.\n",
    "  \"\"\"\n",
    "  # Remover pontuação\n",
    "  texto = re.sub(r'[^\\w\\s]', '', texto)\n",
    "\n",
    "  # Tokenizar o texto em palavras\n",
    "  palavras = nltk.word_tokenize(texto)\n",
    "\n",
    "  # Normalizar as palavras para minúsculas\n",
    "  palavras = [palavra.lower() for palavra in palavras]\n",
    "\n",
    "  # Remover stop words e palavras comuns no contexto de relato\n",
    "  stop_words = nltk.corpus.stopwords.words('english')\n",
    "  palavras_filtradas = [palavra for palavra in palavras if palavra not in stop_words and palavra not in ['im', 'like', 'feel']]\n",
    "\n",
    "  return palavras_filtradas"
   ]
  },
  {
   "cell_type": "code",
   "execution_count": 9,
   "metadata": {},
   "outputs": [
    {
     "name": "stdout",
     "output_type": "stream",
     "text": [
      "Suicidal\n",
      "0       (want, 8438)\n",
      "1       (life, 5969)\n",
      "2       (know, 5079)\n",
      "3      (would, 4517)\n",
      "4        (get, 4068)\n",
      "5       (even, 4042)\n",
      "6    (anymore, 3715)\n",
      "7     (people, 3687)\n",
      "8      (going, 3374)\n",
      "9       (time, 3294)\n",
      "dtype: object\n",
      "\n",
      "\n",
      "Depression\n",
      "0          (want, 9807)\n",
      "1          (life, 8840)\n",
      "2          (know, 8690)\n",
      "3           (get, 7965)\n",
      "4          (even, 7362)\n",
      "5          (time, 6630)\n",
      "6        (people, 6283)\n",
      "7         (would, 5925)\n",
      "8        (really, 5773)\n",
      "9    (depression, 5129)\n",
      "dtype: object\n",
      "\n",
      "\n",
      "Normal\n",
      "0      (want, 897)\n",
      "1      (dont, 812)\n",
      "2       (get, 694)\n",
      "3    (really, 684)\n",
      "4      (time, 664)\n",
      "5        (go, 619)\n",
      "6       (one, 615)\n",
      "7      (know, 584)\n",
      "8      (good, 543)\n",
      "9     (would, 491)\n",
      "dtype: object\n",
      "\n",
      "\n",
      "Personality disorder\n",
      "0      (dont, 1035)\n",
      "1    (people, 1022)\n",
      "2       (know, 654)\n",
      "3       (even, 651)\n",
      "4        (ive, 538)\n",
      "5       (want, 524)\n",
      "6        (get, 518)\n",
      "7     (really, 493)\n",
      "8       (avpd, 490)\n",
      "9       (life, 490)\n",
      "dtype: object\n",
      "\n",
      "\n",
      "Bipolar\n",
      "0        (ive, 1818)\n",
      "1       (dont, 1760)\n",
      "2    (bipolar, 1504)\n",
      "3        (get, 1445)\n",
      "4       (know, 1430)\n",
      "5     (really, 1200)\n",
      "6       (time, 1197)\n",
      "7       (want, 1052)\n",
      "8        (cant, 906)\n",
      "9        (life, 885)\n",
      "dtype: object\n",
      "\n",
      "\n",
      "Anxiety\n",
      "0      (anxiety, 2994)\n",
      "1          (ive, 2196)\n",
      "2         (dont, 1684)\n",
      "3          (get, 1609)\n",
      "4         (know, 1530)\n",
      "5       (really, 1316)\n",
      "6         (time, 1306)\n",
      "7         (back, 1044)\n",
      "8    (something, 1009)\n",
      "9         (going, 981)\n",
      "dtype: object\n",
      "\n",
      "\n",
      "Stress\n",
      "0    (stress, 1196)\n",
      "1      (dont, 1065)\n",
      "2        (get, 953)\n",
      "3       (know, 837)\n",
      "4        (ive, 832)\n",
      "5       (time, 770)\n",
      "6       (even, 641)\n",
      "7       (work, 628)\n",
      "8       (cant, 628)\n",
      "9     (really, 622)\n",
      "dtype: object\n",
      "\n",
      "\n"
     ]
    }
   ],
   "source": [
    "n_palavras = 10\n",
    "\n",
    "for categoria in df['status'].unique():\n",
    "\n",
    "    print(categoria)\n",
    "\n",
    "    df_cat = df.query(f'status == \"{categoria}\"').copy()\n",
    "    df_cat['statement'] = df_cat['statement'].apply(pre_processamento)\n",
    "\n",
    "    # Juntando todas as palavras de todas as frases da categoria filtrada\n",
    "    todas_palavras = []\n",
    "    for lista in df_cat['statement']:\n",
    "        todas_palavras.extend(lista)\n",
    "\n",
    "    # Contando as palavras e retornando uma lista com as mais comuns\n",
    "    contagem = nltk.FreqDist(todas_palavras)\n",
    "    palavras_mais_comuns = contagem.most_common(n_palavras)\n",
    "\n",
    "    print(pd.Series(palavras_mais_comuns))\n",
    "    print('\\n')"
   ]
  },
  {
   "cell_type": "markdown",
   "metadata": {},
   "source": [
    "## Bigrames mais comuns em cada classe"
   ]
  },
  {
   "cell_type": "code",
   "execution_count": 10,
   "metadata": {},
   "outputs": [
    {
     "name": "stdout",
     "output_type": "stream",
     "text": [
      "Suicidal\n",
      "0        ((take, anymore), 1400)\n",
      "1        ((anymore, take), 1268)\n",
      "2            ((want, die), 1174)\n",
      "3           ((get, better), 464)\n",
      "4            ((every, day), 418)\n",
      "5    ((suicidal, thoughts), 393)\n",
      "6             ((die, want), 387)\n",
      "7            ((want, live), 351)\n",
      "8           ((wish, could), 343)\n",
      "9            ((want, kill), 327)\n",
      "dtype: object\n",
      "\n",
      "\n",
      "Depression\n",
      "0    ((mental, health), 731)\n",
      "1       ((get, better), 661)\n",
      "2        ((every, day), 649)\n",
      "3      ((even, though), 601)\n",
      "4         ((want, die), 520)\n",
      "5      ((anyone, else), 465)\n",
      "6       ((wish, could), 432)\n",
      "7     ((take, anymore), 429)\n",
      "8        ((even, know), 402)\n",
      "9       ((every, time), 399)\n",
      "dtype: object\n",
      "\n",
      "\n",
      "Normal\n",
      "0      ((dont, know), 107)\n",
      "1     ((even, though), 97)\n",
      "2       ((dont, want), 82)\n",
      "3         ((want, go), 67)\n",
      "4      ((last, night), 65)\n",
      "5          ((gon, na), 61)\n",
      "6          ((oh, god), 54)\n",
      "7    ((good, morning), 52)\n",
      "8          ((wan, na), 49)\n",
      "9      ((first, time), 46)\n",
      "dtype: object\n",
      "\n",
      "\n",
      "Personality disorder\n",
      "0        ((dont, know), 197)\n",
      "1        ((dont, want), 124)\n",
      "2      ((anyone, else), 102)\n",
      "3       ((even, though), 66)\n",
      "4         ((dont, even), 64)\n",
      "5    ((social, anxiety), 59)\n",
      "6        ((dont, think), 59)\n",
      "7     ((mental, health), 51)\n",
      "8       ((people, dont), 41)\n",
      "9         ((ive, never), 41)\n",
      "dtype: object\n",
      "\n",
      "\n",
      "Bipolar\n",
      "0             ((dont, know), 474)\n",
      "1           ((anyone, else), 271)\n",
      "2             ((dont, want), 269)\n",
      "3      ((bipolar, disorder), 199)\n",
      "4         ((manic, episode), 188)\n",
      "5     ((diagnosed, bipolar), 175)\n",
      "6         ((mental, health), 166)\n",
      "7          ((side, effects), 115)\n",
      "8    ((depressive, episode), 108)\n",
      "9             ((years, ago), 105)\n",
      "dtype: object\n",
      "\n",
      "\n",
      "Anxiety\n",
      "0    ((health, anxiety), 563)\n",
      "1         ((dont, know), 495)\n",
      "2       ((anyone, else), 300)\n",
      "3      ((panic, attack), 195)\n",
      "4     ((panic, attacks), 191)\n",
      "5         ((dont, want), 190)\n",
      "6         ((came, back), 155)\n",
      "7       ((even, though), 155)\n",
      "8      ((heart, attack), 134)\n",
      "9         ((years, ago), 131)\n",
      "dtype: object\n",
      "\n",
      "\n",
      "Stress\n",
      "0     ((dont, know), 320)\n",
      "1     ((dont, want), 118)\n",
      "2    ((anyone, else), 78)\n",
      "3    ((even, though), 66)\n",
      "4         ((wan, na), 56)\n",
      "5      ((every, day), 54)\n",
      "6      ((dont, even), 51)\n",
      "7      ((ive, never), 50)\n",
      "8      ((need, help), 50)\n",
      "9         ((gon, na), 49)\n",
      "dtype: object\n",
      "\n",
      "\n"
     ]
    }
   ],
   "source": [
    "n_bigramas = 10\n",
    "\n",
    "for categoria in df['status'].unique():\n",
    "\n",
    "    print(categoria)\n",
    "\n",
    "    df_cat = df.query(f'status == \"{categoria}\"').copy()\n",
    "    df_cat['statement'] = df_cat['statement'].apply(pre_processamento)\n",
    "\n",
    "    # Juntando todas as palavras de todas as frases da categoria filtrada\n",
    "    todos_bigramas = []\n",
    "    for lista in df_cat['statement']:\n",
    "        todos_bigramas.extend(list(zip(lista, lista[1:])))\n",
    "\n",
    "    # Contando as palavras e retornando uma lista com as mais comuns\n",
    "    contagem = nltk.FreqDist(todos_bigramas)\n",
    "    bigramas_mais_comuns = contagem.most_common(n_bigramas)\n",
    "\n",
    "    print(pd.Series(bigramas_mais_comuns))\n",
    "    print('\\n')"
   ]
  }
 ],
 "metadata": {
  "kernelspec": {
   "display_name": ".venv",
   "language": "python",
   "name": "python3"
  },
  "language_info": {
   "codemirror_mode": {
    "name": "ipython",
    "version": 3
   },
   "file_extension": ".py",
   "mimetype": "text/x-python",
   "name": "python",
   "nbconvert_exporter": "python",
   "pygments_lexer": "ipython3",
   "version": "3.12.3"
  }
 },
 "nbformat": 4,
 "nbformat_minor": 2
}
